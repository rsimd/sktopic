{
 "cells": [
  {
   "cell_type": "code",
   "execution_count": 1,
   "metadata": {},
   "outputs": [
    {
     "name": "stdout",
     "output_type": "stream",
     "text": [
      "module has word_embeddings\n",
      "module.decoder['decoder'] has word_embeddings\n",
      "  epoch      td       train_loss    train_ppl    valid_loss    valid_ppl    wetc_pw     dur\n",
      "-------  ------  ---------------  -----------  ------------  -----------  ---------  ------\n",
      "      1  \u001b[36m0.9600\u001b[0m  \u001b[32m1549559612.6305\u001b[0m    \u001b[35m1511.1090\u001b[0m    \u001b[31m79340.2149\u001b[0m    \u001b[94m1359.1728\u001b[0m     \u001b[36m0.3486\u001b[0m  1.5982\n"
     ]
    },
    {
     "data": {
      "text/plain": [
       "False"
      ]
     },
     "execution_count": 1,
     "metadata": {},
     "output_type": "execute_result"
    }
   ],
   "source": [
    "import sys\n",
    "if \"..\" not in sys.path:\n",
    "    sys.path.append(\"/workdir/\")\n",
    "from sktopic.models import WassersteinLatentDirichletAllocation as WLDA\n",
    "from sktopic.datasets import fetch_20NewsGroups #, fetch_SearchSnippets\n",
    "from sktopic.callbacks import WECoherenceScoring,TopicDiversityScoring\n",
    "from octis.evaluation_metrics.classification_metrics import (\n",
    "    AccuracyScore, F1Score, PrecisionScore, RecallScore,\n",
    ")\n",
    "from skorch.callbacks import EarlyStopping,LRScheduler,GradientNormClipping\n",
    "from tqdm import tqdm \n",
    "from sktopic.utils.model_utils import get_kv, eval_all, override_word_embeddings\n",
    "\n",
    "#from sklearn.model_selection import train_test_split\n",
    "dataset = fetch_20NewsGroups()\n",
    "dataset.train_test_split_stratifiedkfold()\n",
    "_WECoherenceScoring = WECoherenceScoring(dataset.id2word,kv_path=\"/workdir/datasets/dummy_kv.txt\",binary=False)\n",
    "_kvs = get_kv()\n",
    "_WECoherenceScoring.coherencemodel._wv = _kvs[\"glove.42B.300d\"]\n",
    "callbacks = [\n",
    "        _WECoherenceScoring, #WECoherenceScoring(dataset.id2word),\n",
    "        TopicDiversityScoring(dataset.id2word),\n",
    "        #EarlyStopping(patience=10,threshold=1e-6),\n",
    "        #LRScheduler(),\n",
    "        #GradientNormClipping(gradient_clip_value=1.0)\n",
    "        ]\n",
    "from sktopic.models import ProductOfExpertsLatentDirichletAllocation as Model\n",
    "#from sktopic.models import NeuralSinkhornTopicModel as Model\n",
    "\n",
    "V = dataset.vocab_size\n",
    "m = Model(V,20,embed_dim=300,hidden_dims=[500,500],\n",
    "    #dropout_rate_theta=0.5,\n",
    "    dropout_rate_hidden=0.5,\n",
    "    callbacks=callbacks,\n",
    "    batch_size=2000,\n",
    "    max_epochs=1,\n",
    "    device=\"cpu\",\n",
    "    #criterion__prior_name=\"dirichlet\",#\"gmm_ctm\",\n",
    "    lr=0.05,\n",
    "    #topic_model=False,\n",
    "    )\n",
    "\n",
    "use_pwe = True\n",
    "if use_pwe:\n",
    "    from sktopic.utils.model_utils import override_word_embeddings\n",
    "    m = override_word_embeddings(m,dataset,_kvs[\"glove.42B.300d\"],train_embed=False)\n",
    "\n",
    "m.fit(dataset.X_tr)\n",
    "m.module_.decoder[\"decoder\"].word_embeddings.weight.requires_grad "
   ]
  },
  {
   "cell_type": "code",
   "execution_count": 2,
   "metadata": {},
   "outputs": [
    {
     "name": "stdout",
     "output_type": "stream",
     "text": [
      "(1/3) Loading defaults------------------------------------\n",
      "(3/3) Adding WETC-----------------------------------------\n"
     ]
    },
    {
     "name": "stderr",
     "output_type": "stream",
     "text": [
      "100%|██████████| 5/5 [00:00<00:00, 1522.77it/s]\n",
      "  0%|          | 0/53 [00:00<?, ?it/s]/root/.cache/pypoetry/virtualenvs/sktopic-L2WRRFYm-py3.9/lib/python3.9/site-packages/sklearn/svm/_base.py:985: ConvergenceWarning: Liblinear failed to converge, increase the number of iterations.\n",
      "  warnings.warn(\"Liblinear failed to converge, increase \"\n",
      "  2%|▏         | 1/53 [00:18<15:52, 18.33s/it]/root/.cache/pypoetry/virtualenvs/sktopic-L2WRRFYm-py3.9/lib/python3.9/site-packages/sklearn/metrics/_classification.py:1248: UndefinedMetricWarning: Precision is ill-defined and being set to 0.0 in labels with no predicted samples. Use `zero_division` parameter to control this behavior.\n",
      "  _warn_prf(average, modifier, msg_start, len(result))\n",
      "  9%|▉         | 5/53 [00:27<03:44,  4.69s/it]/root/.cache/pypoetry/virtualenvs/sktopic-L2WRRFYm-py3.9/lib/python3.9/site-packages/sklearn/metrics/_classification.py:1248: UndefinedMetricWarning: Precision is ill-defined and being set to 0.0 in labels with no predicted samples. Use `zero_division` parameter to control this behavior.\n",
      "  _warn_prf(average, modifier, msg_start, len(result))\n",
      " 45%|████▌     | 24/53 [00:49<00:50,  1.74s/it]/root/.cache/pypoetry/virtualenvs/sktopic-L2WRRFYm-py3.9/lib/python3.9/site-packages/numpy/core/fromnumeric.py:3440: RuntimeWarning: Mean of empty slice.\n",
      "  return _methods._mean(a, axis=axis, dtype=dtype,\n",
      "/root/.cache/pypoetry/virtualenvs/sktopic-L2WRRFYm-py3.9/lib/python3.9/site-packages/numpy/core/_methods.py:189: RuntimeWarning: invalid value encountered in double_scalars\n",
      "  ret = ret.dtype.type(ret / rcount)\n",
      " 49%|████▉     | 26/53 [01:01<01:15,  2.81s/it]/root/.cache/pypoetry/virtualenvs/sktopic-L2WRRFYm-py3.9/lib/python3.9/site-packages/octis/evaluation_metrics/similarity_metrics.py:144: RuntimeWarning: invalid value encountered in true_divide\n",
      "  centroid1 = centroid1 / count1\n",
      "/root/.cache/pypoetry/virtualenvs/sktopic-L2WRRFYm-py3.9/lib/python3.9/site-packages/octis/evaluation_metrics/similarity_metrics.py:145: RuntimeWarning: invalid value encountered in true_divide\n",
      "  centroid2 = centroid2 / count2\n",
      "100%|██████████| 53/53 [02:12<00:00,  2.50s/it]\n"
     ]
    }
   ],
   "source": [
    "results = eval_all(m,dataset)"
   ]
  },
  {
   "cell_type": "code",
   "execution_count": 3,
   "metadata": {},
   "outputs": [
    {
     "data": {
      "text/plain": [
       "{'F1_lsvm': 0.05337647833378363,\n",
       " 'Precision_lsvm': 0.0495188127467614,\n",
       " 'Recall_lsvm': 0.08104570732724625,\n",
       " 'ACC_lsvm': 0.08645003065603923,\n",
       " 'F1_rbfsvm': 0.0309029566216528,\n",
       " 'Precision_rbfsvm': 0.022853042909054423,\n",
       " 'Recall_rbfsvm': 0.06942181368808947,\n",
       " 'ACC_rbfsvm': 0.07510729613733906,\n",
       " 'Cocherence_umass': -2.0539809455355114,\n",
       " 'Cocherence_npmi': -0.01672673773629467,\n",
       " 'TopicDiversity': 0.416,\n",
       " 'External_InvertedRBO': 0.9745904751949681,\n",
       " 'LogOddsRatio': 0.048052224314865145,\n",
       " 'TopicDistributions_KLDivergence': 0.048052224314865145,\n",
       " 'Internal_RBO': 0.02540952480503189,\n",
       " 'KL_uniform': 0.031023531787827425,\n",
       " 'KL_vacuous': 0.000880802558694588,\n",
       " 'KL_background': 0.4484302437061668,\n",
       " 'MeanSquaredCosineDeviatoinAmongTopics': 0.9981929063796997,\n",
       " 'Purity': 0.07296696558595846,\n",
       " 'NMI': 0.012337625484771084,\n",
       " 'WECoherencePairwise_w2v.3M.300d': 0.122132994,\n",
       " 'WECoherenceCentroid_w2v.3M.300d': -0.011238983187420473,\n",
       " 'External_WordEmbeddingsInvertedRBO_w2v.3M.300d': 0.44518145020895983,\n",
       " 'External_WordEmbeddingsInvertedRBOCentroid_w2v.3M.300d': nan,\n",
       " 'Internal_WordEmbeddingsRBOMatch_w2v.3M.300d': 0.5548185497910402,\n",
       " 'Internal_WordEmbeddingsRBOCentroid_w2v.3M.300d': nan,\n",
       " 'Internal_WordEmbeddingsPairwiseSimilarity_w2v.3M.300d': nan,\n",
       " 'Internal_WordEmbeddingsCentroidSimilarity_w2v.3M.300d': nan,\n",
       " 'WECoherencePairwise_glove.42B.300d': 0.47362256,\n",
       " 'WECoherenceCentroid_glove.42B.300d': -0.043340912473842294,\n",
       " 'External_WordEmbeddingsInvertedRBO_glove.42B.300d': 0.33897682000013685,\n",
       " 'External_WordEmbeddingsInvertedRBOCentroid_glove.42B.300d': nan,\n",
       " 'Internal_WordEmbeddingsRBOMatch_glove.42B.300d': 0.6610231799998632,\n",
       " 'Internal_WordEmbeddingsRBOCentroid_glove.42B.300d': nan,\n",
       " 'Internal_WordEmbeddingsPairwiseSimilarity_glove.42B.300d': nan,\n",
       " 'Internal_WordEmbeddingsCentroidSimilarity_glove.42B.300d': nan,\n",
       " 'WECoherencePairwise_glove.6B.50d': 0.53884417,\n",
       " 'WECoherenceCentroid_glove.6B.50d': -0.04799531807071016,\n",
       " 'External_WordEmbeddingsInvertedRBO_glove.6B.50d': 0.301595082464421,\n",
       " 'External_WordEmbeddingsInvertedRBOCentroid_glove.6B.50d': nan,\n",
       " 'Internal_WordEmbeddingsRBOMatch_glove.6B.50d': 0.698404917535579,\n",
       " 'Internal_WordEmbeddingsRBOCentroid_glove.6B.50d': nan,\n",
       " 'Internal_WordEmbeddingsPairwiseSimilarity_glove.6B.50d': nan,\n",
       " 'Internal_WordEmbeddingsCentroidSimilarity_glove.6B.50d': nan,\n",
       " 'WECoherencePairwise_glove.6B.300d': 0.29514125,\n",
       " 'WECoherenceCentroid_glove.6B.300d': -0.026795478151867873,\n",
       " 'External_WordEmbeddingsInvertedRBO_glove.6B.300d': 0.39200375690268896,\n",
       " 'External_WordEmbeddingsInvertedRBOCentroid_glove.6B.300d': nan,\n",
       " 'Internal_WordEmbeddingsRBOMatch_glove.6B.300d': 0.607996243097311,\n",
       " 'Internal_WordEmbeddingsRBOCentroid_glove.6B.300d': nan,\n",
       " 'Internal_WordEmbeddingsPairwiseSimilarity_glove.6B.300d': nan,\n",
       " 'Internal_WordEmbeddingsCentroidSimilarity_glove.6B.300d': nan,\n",
       " 'Perplexity': 1361.9449462890625,\n",
       " 'NormalizedPerplexity': 0.8448789989386244,\n",
       " 'PerplexityRecons': 1362.551025390625,\n",
       " 'NormalizedPerplexityRecons': 0.8452549785301644}"
      ]
     },
     "execution_count": 3,
     "metadata": {},
     "output_type": "execute_result"
    }
   ],
   "source": [
    "results"
   ]
  },
  {
   "cell_type": "code",
   "execution_count": null,
   "metadata": {},
   "outputs": [],
   "source": []
  }
 ],
 "metadata": {
  "interpreter": {
   "hash": "10783f88d19cbf6629da312ee526446d1cda014bbfa2009b25fff1cd3883c755"
  },
  "kernelspec": {
   "display_name": "Python 3.9.7 64-bit ('sktopic-L2WRRFYm-py3.9': poetry)",
   "language": "python",
   "name": "python3"
  },
  "language_info": {
   "codemirror_mode": {
    "name": "ipython",
    "version": 3
   },
   "file_extension": ".py",
   "mimetype": "text/x-python",
   "name": "python",
   "nbconvert_exporter": "python",
   "pygments_lexer": "ipython3",
   "version": "3.9.7"
  },
  "orig_nbformat": 4
 },
 "nbformat": 4,
 "nbformat_minor": 2
}
